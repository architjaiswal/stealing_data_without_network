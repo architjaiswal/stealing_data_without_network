{
 "cells": [
  {
   "cell_type": "code",
   "execution_count": null,
   "metadata": {},
   "outputs": [],
   "source": [
    "import nidaqmx\n",
    "from nidaqmx.constants import AcquisitionType\n",
    "from nidaqmx import stream_readers\n",
    "import numpy as np\n",
    "import csv\n",
    "import time\n",
    "from datetime import datetime\n",
    "\n",
    "sample_rate = 200000                             # Usually sample rate goes 2048 Hz, 2560 Hz, 3200 Hz, 5120 Hz, 6400 Hz (at least for a NI9234 card) \n",
    "samples_to_acq = 200000                           # At least for vibration matters, Samples to acq go from 2048, 4096, 8192\n",
    "wait_time = samples_to_acq/sample_rate          # Data Acquisition Time in s, very important for the NI task function, and since we have 2048 on both sides, time is 1 s\n",
    "cont_mode = AcquisitionType.CONTINUOUS              # There is also FINITE for sporadic measurements\n",
    "iterations = 100\n",
    "\n",
    "    \n",
    "task=nidaqmx.Task()\n",
    "\n",
    "task.ai_channels.add_ai_voltage_chan(\"Dev3/ai0\")\n",
    "\n",
    "total_wait_time = wait_time * iterations                       \n",
    "samples_to_acq_new = samples_to_acq * iterations                \n",
    "\n",
    "\n",
    "task.timing.cfg_samp_clk_timing(sample_rate, sample_mode = cont_mode, samps_per_chan = samples_to_acq_new)               \n",
    "  \n",
    "start = time.time()\n",
    "\n",
    "print ('Starting task...')         \n",
    "\n",
    "    \n",
    "data = np.ndarray((1, samples_to_acq_new), dtype = np.float64)  #Creates an array, 4 columns each one of 20480 rows\n",
    "nidaqmx.stream_readers.AnalogMultiChannelReader(task.in_stream).read_many_sample(data, samples_to_acq_new, timeout = 150) # it should't take that long for this example, check out time for other exercises               \n",
    "    \n",
    "    \n",
    "\n",
    "elapsed_time = (time.time() - start)\n",
    "print (f'done in {elapsed_time}')"
   ]
  }
 ],
 "metadata": {
  "kernelspec": {
   "display_name": "Python 3",
   "language": "python",
   "name": "python3"
  },
  "language_info": {
   "codemirror_mode": {
    "name": "ipython",
    "version": 3
   },
   "file_extension": ".py",
   "mimetype": "text/x-python",
   "name": "python",
   "nbconvert_exporter": "python",
   "pygments_lexer": "ipython3",
   "version": "3.8.3"
  }
 },
 "nbformat": 4,
 "nbformat_minor": 4
}
